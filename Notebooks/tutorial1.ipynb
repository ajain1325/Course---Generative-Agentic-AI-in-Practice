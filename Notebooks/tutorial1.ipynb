{
 "cells": [
  {
   "cell_type": "code",
   "execution_count": null,
   "id": "413b6dcd",
   "metadata": {},
   "outputs": [
    {
     "ename": "",
     "evalue": "",
     "output_type": "error",
     "traceback": [
      "\u001b[1;31mRunning cells with 'base (Python 3.12.2)' requires the ipykernel package.\n",
      "\u001b[1;31m<a href='command:jupyter.createPythonEnvAndSelectController'>Create a Python Environment</a> with the required packages."
     ]
    }
   ],
   "source": [
    "# Make sure you have transformers and torch installed\n",
    "# pip install transformers torch\n",
    "\n",
    "from transformers import AutoModelForCausalLM, AutoTokenizer\n",
    "import torch\n",
    "\n",
    "# Specify the model ID and load the model and tokenizer\n",
    "# Using a smaller, faster model for this example.\n",
    "model_id = \"LiquidAI/LFM2-350M\"\n",
    "model = AutoModelForCausalLM.from_pretrained(\n",
    "    model_id,\n",
    "    device_map=\"auto\",\n",
    "    torch_dtype=torch.bfloat16\n",
    ")\n",
    "tokenizer = AutoTokenizer.from_pretrained(model_id)\n",
    "\n",
    "# --- Zero-Shot Prompt ---\n",
    "# We ask the model to classify the sentiment of a sentence\n",
    "# without providing any examples.\n",
    "review_text = \"This movie was absolutely fantastic! The acting was superb.\"\n",
    "prompt = f\"\"\"\n",
    "Classify the sentiment of the following movie review.\n",
    "Options: Positive, Negative, Neutral\n",
    "\n",
    "Review: \"{review_text}\"\n",
    "Sentiment:\n",
    "\"\"\"\n",
    "\n",
    "# Prepare the input for the model\n",
    "messages = [{\"role\": \"user\", \"content\": prompt}]\n",
    "input_ids = tokenizer.apply_chat_template(\n",
    "    messages,\n",
    "    add_generation_prompt=True,\n",
    "    return_tensors=\"pt\"\n",
    ").to(model.device)\n",
    "\n",
    "# Generate the response\n",
    "# We use max_new_tokens to limit the output to a single word.\n",
    "outputs = model.generate(\n",
    "    input_ids,\n",
    "    max_new_tokens=5,\n",
    "    do_sample=True,\n",
    "    temperature=0.1,\n",
    ")\n",
    "\n",
    "# Decode and print the result\n",
    "response = tokenizer.decode(outputs[0][input_ids.shape[-1]:], skip_special_tokens=True)\n",
    "print(f\"Movie Review: {review_text}\")\n",
    "print(f\"Model's Predicted Sentiment: {response.strip()}\")\n",
    "\n",
    "# Expected output will likely be 'Positive'\n"
   ]
  },
  {
   "cell_type": "code",
   "execution_count": null,
   "id": "d10e7ced",
   "metadata": {},
   "outputs": [],
   "source": []
  }
 ],
 "metadata": {
  "kernelspec": {
   "display_name": "base",
   "language": "python",
   "name": "python3"
  },
  "language_info": {
   "name": "python",
   "version": "3.12.2"
  }
 },
 "nbformat": 4,
 "nbformat_minor": 5
}
